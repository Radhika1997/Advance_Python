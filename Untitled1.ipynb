{
 "cells": [
  {
   "cell_type": "code",
   "execution_count": 27,
   "metadata": {},
   "outputs": [
    {
     "name": "stdout",
     "output_type": "stream",
     "text": [
      "I'm being constructed\n",
      "21\n",
      "69\n"
     ]
    }
   ],
   "source": [
    "class Student:\n",
    "    r = 21\n",
    "    def __init__(self,Erno):\n",
    "        print(\"I'm being constructed\")\n",
    "        self.enroll = Erno\n",
    "        #self.r = self.r+1\n",
    "        #print(self.r)\n",
    "    def print_values(self,incr):\n",
    "        print(self.enroll+incr)\n",
    "radhika = Student(67)\n",
    "\n",
    "#print(radhika.enroll)\n",
    "print(radhika.r)\n",
    "radhika.print_values(2)"
   ]
  },
  {
   "cell_type": "markdown",
   "metadata": {},
   "source": [
    "# Practical 1\n",
    "Create a class bank with account object. It should open with 1000 balance. Create methods  to credit & debit functionality & print the current balance of the account.\n"
   ]
  },
  {
   "cell_type": "code",
   "execution_count": 29,
   "metadata": {},
   "outputs": [
    {
     "name": "stdout",
     "output_type": "stream",
     "text": [
      "1100\n"
     ]
    }
   ],
   "source": [
    "class Bank:\n",
    "    def __init__(self,acc_bal):\n",
    "        self.balance = acc_bal\n",
    "    def credit(self,add):\n",
    "        self.balance = self.balance+add\n",
    "    def debit(self,sub):\n",
    "        self.balance = self.balance-sub\n",
    "    def check(self):\n",
    "        print(self.balance)\n",
    "user = Bank(1000)\n",
    "user.credit(500)\n",
    "user.debit(400)\n",
    "user.check()\n",
    "        \n",
    " \n"
   ]
  },
  {
   "cell_type": "code",
   "execution_count": null,
   "metadata": {
    "collapsed": true
   },
   "outputs": [],
   "source": [
    "class User:\n",
    "    "
   ]
  }
 ],
 "metadata": {
  "kernelspec": {
   "display_name": "Python 3",
   "language": "python",
   "name": "python3"
  },
  "language_info": {
   "codemirror_mode": {
    "name": "ipython",
    "version": 3
   },
   "file_extension": ".py",
   "mimetype": "text/x-python",
   "name": "python",
   "nbconvert_exporter": "python",
   "pygments_lexer": "ipython3",
   "version": "3.6.3"
  }
 },
 "nbformat": 4,
 "nbformat_minor": 2
}
