{
 "cells": [
  {
   "cell_type": "code",
   "execution_count": 1,
   "metadata": {},
   "outputs": [
    {
     "name": "stdout",
     "output_type": "stream",
     "text": [
      "I'm being constructed\n",
      "21\n",
      "69\n"
     ]
    }
   ],
   "source": [
    "class Student:\n",
    "    r = 21\n",
    "    def __init__(self,Erno):\n",
    "        print(\"I'm being constructed\")\n",
    "        self.enroll = Erno\n",
    "        #self.r = self.r+1\n",
    "        #print(self.r)\n",
    "    def print_values(self,incr):\n",
    "        print(self.enroll+incr)\n",
    "radhika = Student(67)\n",
    "\n",
    "#print(radhika.enroll)\n",
    "print(radhika.r)\n",
    "radhika.print_values(2)"
   ]
  },
  {
   "cell_type": "markdown",
   "metadata": {},
   "source": [
    "# Practical 1\n",
    "Create a class bank with account object. It should open with 1000 balance. Create methods  to credit & debit functionality & print the current balance of the account.\n"
   ]
  },
  {
   "cell_type": "code",
   "execution_count": 2,
   "metadata": {},
   "outputs": [
    {
     "name": "stdout",
     "output_type": "stream",
     "text": [
      "1100\n"
     ]
    }
   ],
   "source": [
    "class Bank:\n",
    "    def __init__(self,acc_bal):\n",
    "        self.balance = acc_bal\n",
    "    def credit(self,add):\n",
    "        self.balance = self.balance+add\n",
    "    def debit(self,sub):\n",
    "        self.balance = self.balance-sub\n",
    "    def check(self):\n",
    "        print(self.balance)\n",
    "user = Bank(1000)\n",
    "user.credit(500)\n",
    "user.debit(400)\n",
    "user.check()\n",
    "        \n",
    " \n"
   ]
  },
  {
   "cell_type": "markdown",
   "metadata": {
    "collapsed": true
   },
   "source": [
    "#  # Using Inheritance.  \n",
    "    "
   ]
  },
  {
   "cell_type": "code",
   "execution_count": 6,
   "metadata": {},
   "outputs": [
    {
     "name": "stdout",
     "output_type": "stream",
     "text": [
      "Child contructor\n",
      "Customer name is: Radhika\n",
      "20988\n"
     ]
    }
   ],
   "source": [
    "class User(Bank):\n",
    "    def __init__(self,acc_bal,name):\n",
    "        print(\"Child contructor\")\n",
    "        Bank.__init__(self,acc_bal)\n",
    "        self.customer = name\n",
    "    def customerinfo(self):\n",
    "        print(\"Customer name is:\",self.customer)\n",
    "c = User(1000,\"Radhika\")\n",
    "c.customerinfo()\n",
    "c.credit(20000)\n",
    "c.debit(12)\n",
    "c.check()\n",
    "        "
   ]
  },
  {
   "cell_type": "markdown",
   "metadata": {},
   "source": [
    "# multiple inheritance"
   ]
  },
  {
   "cell_type": "code",
   "execution_count": 2,
   "metadata": {
    "collapsed": true
   },
   "outputs": [],
   "source": [
    "class Employees:\n",
    "    salary = 10000\n",
    "    def __init__(self):\n",
    "        self.user = input(\"Enter the employee name: \")\n",
    "        self.position = input(\"Enter the designation: \")\n",
    "        \n",
    "    "
   ]
  },
  {
   "cell_type": "code",
   "execution_count": 3,
   "metadata": {
    "collapsed": true
   },
   "outputs": [],
   "source": [
    "class ITExperts:\n",
    "    def __init__(self,expertise,Bachelors):\n",
    "        self.exp = expertise\n",
    "        self.degree = Bachelors\n",
    "        self.higher = input(\"Applying for Masters? Yes or No: \")\n",
    "        "
   ]
  },
  {
   "cell_type": "code",
   "execution_count": 4,
   "metadata": {},
   "outputs": [
    {
     "name": "stdout",
     "output_type": "stream",
     "text": [
      "Enter the employee name: Radhika Jain\n",
      "Enter the designation: CEO\n",
      "Applying for Masters? Yes or No: Yes\n",
      "Enter tenure in months: 14\n",
      "Congratuations!\n",
      "Employee name: Radhika Jain\n",
      "Designation: CEO\n",
      "Expertise: Android dev\n",
      "B.Tech: IT\n",
      "Masters: Yes\n",
      "Projectname: Hangouts\n",
      "tenure: 14\n",
      "Developement Env: Android Studio\n"
     ]
    }
   ],
   "source": [
    "class SoftwareDevelopers(Employees,ITExperts):\n",
    "    def __init__(self,projectname,developmentenv,expertise,Bachelors):\n",
    "        #print(\"Child\")\n",
    "        Employees.__init__(self)\n",
    "        ITExperts.__init__(self,expertise,Bachelors)\n",
    "        self.project = projectname\n",
    "        self.tenure = int(input(\"Enter tenure in months: \"))\n",
    "        self.dev = developmentenv\n",
    "    def pay(self):\n",
    "        if self.tenure>12:\n",
    "            self.salary += 25000\n",
    "            print(\"Congratuations!\")\n",
    "    def employeeinfor(self):\n",
    "        print(\"Employee name:\",self.user)\n",
    "        print(\"Designation:\",self.position)\n",
    "        print(\"Expertise:\",self.exp)\n",
    "        print(\"B.Tech:\",self.degree)\n",
    "        print(\"Masters:\",self.higher)\n",
    "        print(\"Projectname:\",self.project)\n",
    "        print(\"tenure:\",self.tenure)\n",
    "        print(\"Developement Env:\",self.dev)\n",
    "s = SoftwareDevelopers(\"Hangouts\",\"Android Studio\",\"Android dev\",\"IT\")\n",
    "\n",
    "s.pay()\n",
    "s.employeeinfor()\n",
    "     "
   ]
  },
  {
   "cell_type": "code",
   "execution_count": null,
   "metadata": {
    "collapsed": true
   },
   "outputs": [],
   "source": []
  },
  {
   "cell_type": "code",
   "execution_count": null,
   "metadata": {
    "collapsed": true
   },
   "outputs": [],
   "source": []
  }
 ],
 "metadata": {
  "kernelspec": {
   "display_name": "Python 3",
   "language": "python",
   "name": "python3"
  },
  "language_info": {
   "codemirror_mode": {
    "name": "ipython",
    "version": 3
   },
   "file_extension": ".py",
   "mimetype": "text/x-python",
   "name": "python",
   "nbconvert_exporter": "python",
   "pygments_lexer": "ipython3",
   "version": "3.6.3"
  }
 },
 "nbformat": 4,
 "nbformat_minor": 2
}
