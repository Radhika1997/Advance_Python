{
 "cells": [
  {
   "cell_type": "code",
   "execution_count": 1,
   "metadata": {},
   "outputs": [
    {
     "name": "stdout",
     "output_type": "stream",
     "text": [
      "I'm being constructed\n",
      "21\n",
      "69\n"
     ]
    }
   ],
   "source": [
    "class Student:\n",
    "    r = 21\n",
    "    def __init__(self,Erno):\n",
    "        print(\"I'm being constructed\")\n",
    "        self.enroll = Erno\n",
    "        #self.r = self.r+1\n",
    "        #print(self.r)\n",
    "    def print_values(self,incr):\n",
    "        print(self.enroll+incr)\n",
    "radhika = Student(67)\n",
    "\n",
    "#print(radhika.enroll)\n",
    "print(radhika.r)\n",
    "radhika.print_values(2)"
   ]
  },
  {
   "cell_type": "markdown",
   "metadata": {},
   "source": [
    "# Practical 1\n",
    "Create a class bank with account object. It should open with 1000 balance. Create methods  to credit & debit functionality & print the current balance of the account.\n"
   ]
  },
  {
   "cell_type": "code",
   "execution_count": 2,
   "metadata": {},
   "outputs": [
    {
     "name": "stdout",
     "output_type": "stream",
     "text": [
      "1100\n"
     ]
    }
   ],
   "source": [
    "class Bank:\n",
    "    def __init__(self,acc_bal):\n",
    "        self.balance = acc_bal\n",
    "    def credit(self,add):\n",
    "        self.balance = self.balance+add\n",
    "    def debit(self,sub):\n",
    "        self.balance = self.balance-sub\n",
    "    def check(self):\n",
    "        print(self.balance)\n",
    "user = Bank(1000)\n",
    "user.credit(500)\n",
    "user.debit(400)\n",
    "user.check()\n",
    "        \n",
    " \n"
   ]
  },
  {
   "cell_type": "markdown",
   "metadata": {
    "collapsed": true
   },
   "source": [
    "#  # Using Inheritance.  \n",
    "    "
   ]
  },
  {
   "cell_type": "code",
   "execution_count": 6,
   "metadata": {},
   "outputs": [
    {
     "name": "stdout",
     "output_type": "stream",
     "text": [
      "Child contructor\n",
      "Customer name is: Radhika\n",
      "20988\n"
     ]
    }
   ],
   "source": [
    "class User(Bank):\n",
    "    def __init__(self,acc_bal,name):\n",
    "        print(\"Child contructor\")\n",
    "        Bank.__init__(self,acc_bal)\n",
    "        self.customer = name\n",
    "    def customerinfo(self):\n",
    "        print(\"Customer name is:\",self.customer)\n",
    "c = User(1000,\"Radhika\")\n",
    "c.customerinfo()\n",
    "c.credit(20000)\n",
    "c.debit(12)\n",
    "c.check()\n",
    "        "
   ]
  },
  {
   "cell_type": "markdown",
   "metadata": {},
   "source": [
    "# multiple inheritance"
   ]
  },
  {
   "cell_type": "code",
   "execution_count": 2,
   "metadata": {
    "collapsed": true
   },
   "outputs": [],
   "source": [
    "class Employees:\n",
    "    salary = 10000\n",
    "    def __init__(self):\n",
    "        self.user = input(\"Enter the employee name: \")\n",
    "        self.position = input(\"Enter the designation: \")\n",
    "        \n",
    "    "
   ]
  },
  {
   "cell_type": "code",
   "execution_count": 3,
   "metadata": {
    "collapsed": true
   },
   "outputs": [],
   "source": [
    "class ITExperts:\n",
    "    def __init__(self,expertise,Bachelors):\n",
    "        self.exp = expertise\n",
    "        self.degree = Bachelors\n",
    "        self.higher = input(\"Applying for Masters? Yes or No: \")\n",
    "        "
   ]
  },
  {
   "cell_type": "code",
   "execution_count": 4,
   "metadata": {},
   "outputs": [
    {
     "name": "stdout",
     "output_type": "stream",
     "text": [
      "Enter the employee name: Radhika Jain\n",
      "Enter the designation: CEO\n",
      "Applying for Masters? Yes or No: Yes\n",
      "Enter tenure in months: 14\n",
      "Congratuations!\n",
      "Employee name: Radhika Jain\n",
      "Designation: CEO\n",
      "Expertise: Android dev\n",
      "B.Tech: IT\n",
      "Masters: Yes\n",
      "Projectname: Hangouts\n",
      "tenure: 14\n",
      "Developement Env: Android Studio\n"
     ]
    }
   ],
   "source": [
    "class SoftwareDevelopers(Employees,ITExperts):\n",
    "    def __init__(self,projectname,developmentenv,expertise,Bachelors):\n",
    "        #print(\"Child\")\n",
    "        Employees.__init__(self)\n",
    "        ITExperts.__init__(self,expertise,Bachelors)\n",
    "        self.project = projectname\n",
    "        self.tenure = int(input(\"Enter tenure in months: \"))\n",
    "        self.dev = developmentenv\n",
    "    def pay(self):\n",
    "        if self.tenure>12:\n",
    "            self.salary += 25000\n",
    "            print(\"Congratuations!\")\n",
    "    def employeeinfor(self):\n",
    "        print(\"Employee name:\",self.user)\n",
    "        print(\"Designation:\",self.position)\n",
    "        print(\"Expertise:\",self.exp)\n",
    "        print(\"B.Tech:\",self.degree)\n",
    "        print(\"Masters:\",self.higher)\n",
    "        print(\"Projectname:\",self.project)\n",
    "        print(\"tenure:\",self.tenure)\n",
    "        print(\"Developement Env:\",self.dev)\n",
    "s = SoftwareDevelopers(\"Hangouts\",\"Android Studio\",\"Android dev\",\"IT\")\n",
    "\n",
    "s.pay()\n",
    "s.employeeinfor()\n",
    "     "
   ]
  },
  {
   "cell_type": "markdown",
   "metadata": {
    "collapsed": true
   },
   "source": [
    "# Lab 3 Method Overriding\n",
    "\n",
    "create a class vehicle with param no.tyres,fuel engine type thn define a method set body colour, get body colour , vehicle info. print no of tyres & another inherited class truck with param brand & info method should print brand."
   ]
  },
  {
   "cell_type": "code",
   "execution_count": 14,
   "metadata": {
    "collapsed": true
   },
   "outputs": [],
   "source": [
    "class vehicle():\n",
    "    def __init__(self,tyres,fuel_engine_type):\n",
    "        self.tyres = tyres\n",
    "        self.fuel_engine_type = fuel_engine_type\n",
    "    def set_colour(self):\n",
    "        self.colour = input(\"Enter the colour of the vehicle\")\n",
    "    def get_colour(self):\n",
    "        print(\"Colour of the Vehicle is\",self.colour)\n",
    "    def vehicle_info(self):\n",
    "        print(\"Number of tyres are\",self.tyres)\n",
    "        print(\"Type of fuel engine is\",self.fuel_engine_type)\n",
    "        \n",
    "        "
   ]
  },
  {
   "cell_type": "code",
   "execution_count": 15,
   "metadata": {},
   "outputs": [],
   "source": [
    "class truck(vehicle):\n",
    "    def __init__(self,tyres,fuel_engine_type):\n",
    "        vehicle.__init__(self,tyres,fuel_engine_type)\n",
    "        self.brand  = input(\"Enter the brand of the truck.\")\n",
    "    def vehicle_info(self):\n",
    "        print(\"brand of the vehicle\",self.brand)\n",
    "        \n",
    "        "
   ]
  },
  {
   "cell_type": "code",
   "execution_count": 16,
   "metadata": {},
   "outputs": [
    {
     "name": "stdout",
     "output_type": "stream",
     "text": [
      "Enter the brand of the truck.tata\n",
      "brand of the vehicle tata\n",
      "Number of tyres are 8\n",
      "Type of fuel engine is petrol\n",
      "Enter the colour of the vehicleblue\n",
      "Colour of the Vehicle is blue\n"
     ]
    }
   ],
   "source": [
    "v = vehicle(8,\"petrol\")\n",
    "t = truck(8,\"petrol\")\n",
    "t.vehicle_info()\n",
    "v.vehicle_info()\n",
    "v.set_colour()\n",
    "v.get_colour()\n"
   ]
  },
  {
   "cell_type": "markdown",
   "metadata": {},
   "source": [
    "# Overloading"
   ]
  },
  {
   "cell_type": "code",
   "execution_count": 33,
   "metadata": {
    "collapsed": true
   },
   "outputs": [],
   "source": [
    "class vector():\n",
    "    def __init__(self,x=0,y=0):\n",
    "        self.x = x \n",
    "        self.y = y\n",
    "    def __str__(self):\n",
    "        return str(\"\")+str(self.x) + \" \"+ str(self.y)\n",
    "    def __add__(self,other):\n",
    "        self.x = self.x + other.x\n",
    "        self.y = self.y + other.y\n",
    "        return vector(self.x,self.y)\n",
    "        "
   ]
  },
  {
   "cell_type": "code",
   "execution_count": 34,
   "metadata": {},
   "outputs": [
    {
     "name": "stdout",
     "output_type": "stream",
     "text": [
      "6 7\n"
     ]
    }
   ],
   "source": [
    "r = vector(2,1)\n",
    "r2 = vector(4,6)\n",
    "print(r+r2)"
   ]
  },
  {
   "cell_type": "code",
   "execution_count": 35,
   "metadata": {
    "collapsed": true
   },
   "outputs": [],
   "source": [
    "class circle():\n",
    "    def __init__(self,radius):\n",
    "        self.radius = radius\n",
    "    def __mul__(self,other):\n",
    "        self.radius = self.radius * other.radius\n",
    "        return circle(self.radius)\n",
    "    def area(self):\n",
    "        print(\"Area of the circle is\",3.14 * self.radius * self.radius)\n",
    "        "
   ]
  },
  {
   "cell_type": "code",
   "execution_count": 37,
   "metadata": {},
   "outputs": [
    {
     "name": "stdout",
     "output_type": "stream",
     "text": [
      "Area of the circle is 670214.16\n",
      "None\n"
     ]
    }
   ],
   "source": [
    "c = circle(21)\n",
    "c2 = circle(22)\n",
    "print((c*c2).area())"
   ]
  },
  {
   "cell_type": "markdown",
   "metadata": {},
   "source": [
    "# Encapsulation"
   ]
  },
  {
   "cell_type": "code",
   "execution_count": 54,
   "metadata": {
    "collapsed": true
   },
   "outputs": [],
   "source": [
    "class vector():\n",
    "    \"This is Radhika's class\"\n",
    "    __x=0\n",
    "    def __init__(self,y=0):\n",
    "        self.x = self.__x \n",
    "        self.y = y\n",
    "    def __str__(self):\n",
    "        return str(\"\")+str(self.x) + \" \"+ str(self.y)\n",
    "    def __add__(self,other):\n",
    "        self.x = self.x + other.x\n",
    "        self.y = self.y + other.y\n",
    "        return vector(self.y)"
   ]
  },
  {
   "cell_type": "code",
   "execution_count": 55,
   "metadata": {},
   "outputs": [
    {
     "name": "stdout",
     "output_type": "stream",
     "text": [
      "0\n"
     ]
    }
   ],
   "source": [
    "r = vector(2)\n",
    "print(r._vector__x)"
   ]
  },
  {
   "cell_type": "code",
   "execution_count": 56,
   "metadata": {},
   "outputs": [
    {
     "name": "stdout",
     "output_type": "stream",
     "text": [
      "This is Radhika's class\n"
     ]
    }
   ],
   "source": [
    "print(vector.__doc__)"
   ]
  },
  {
   "cell_type": "code",
   "execution_count": 57,
   "metadata": {},
   "outputs": [
    {
     "name": "stdout",
     "output_type": "stream",
     "text": [
      "{'__module__': '__main__', '__doc__': \"This is Radhika's class\", '_vector__x': 0, '__init__': <function vector.__init__ at 0x00000000077AE730>, '__str__': <function vector.__str__ at 0x00000000077AE6A8>, '__add__': <function vector.__add__ at 0x00000000077AE950>, '__dict__': <attribute '__dict__' of 'vector' objects>, '__weakref__': <attribute '__weakref__' of 'vector' objects>}\n"
     ]
    }
   ],
   "source": [
    "print(vector.__dict__)"
   ]
  },
  {
   "cell_type": "code",
   "execution_count": 58,
   "metadata": {},
   "outputs": [
    {
     "name": "stdout",
     "output_type": "stream",
     "text": [
      "__main__\n"
     ]
    }
   ],
   "source": [
    "print(vector.__module__)"
   ]
  },
  {
   "cell_type": "code",
   "execution_count": 59,
   "metadata": {},
   "outputs": [
    {
     "name": "stdout",
     "output_type": "stream",
     "text": [
      "vector\n"
     ]
    }
   ],
   "source": [
    "print(vector.__name__)"
   ]
  },
  {
   "cell_type": "code",
   "execution_count": 60,
   "metadata": {
    "collapsed": true
   },
   "outputs": [],
   "source": [
    "vector.name = \"Radhika Jain\""
   ]
  },
  {
   "cell_type": "code",
   "execution_count": 62,
   "metadata": {},
   "outputs": [
    {
     "name": "stdout",
     "output_type": "stream",
     "text": [
      "Radhika Jain\n"
     ]
    }
   ],
   "source": [
    "print(vector.name)"
   ]
  },
  {
   "cell_type": "code",
   "execution_count": 63,
   "metadata": {
    "collapsed": true
   },
   "outputs": [],
   "source": [
    "r.rollnumber = \"21\""
   ]
  },
  {
   "cell_type": "code",
   "execution_count": 64,
   "metadata": {},
   "outputs": [
    {
     "name": "stdout",
     "output_type": "stream",
     "text": [
      "21\n"
     ]
    }
   ],
   "source": [
    "print(r.rollnumber)"
   ]
  },
  {
   "cell_type": "code",
   "execution_count": null,
   "metadata": {
    "collapsed": true
   },
   "outputs": [],
   "source": []
  }
 ],
 "metadata": {
  "kernelspec": {
   "display_name": "Python 3",
   "language": "python",
   "name": "python3"
  },
  "language_info": {
   "codemirror_mode": {
    "name": "ipython",
    "version": 3
   },
   "file_extension": ".py",
   "mimetype": "text/x-python",
   "name": "python",
   "nbconvert_exporter": "python",
   "pygments_lexer": "ipython3",
   "version": "3.6.3"
  }
 },
 "nbformat": 4,
 "nbformat_minor": 2
}
